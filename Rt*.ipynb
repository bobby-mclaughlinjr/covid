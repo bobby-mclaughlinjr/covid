{
  "nbformat": 4,
  "nbformat_minor": 0,
  "metadata": {
    "colab": {
      "name": "Rt.ipynb",
      "provenance": [],
      "collapsed_sections": [],
      "authorship_tag": "ABX9TyPR0vRw6jykN6yCX1C29l5W",
      "include_colab_link": true
    },
    "kernelspec": {
      "name": "python3",
      "display_name": "Python 3"
    }
  },
  "cells": [
    {
      "cell_type": "markdown",
      "metadata": {
        "id": "view-in-github",
        "colab_type": "text"
      },
      "source": [
        "<a href=\"https://colab.research.google.com/github/bobby-mclaughlinjr/covid/blob/master/Rt*.ipynb\" target=\"_parent\"><img src=\"https://colab.research.google.com/assets/colab-badge.svg\" alt=\"Open In Colab\"/></a>"
      ]
    },
    {
      "cell_type": "code",
      "metadata": {
        "id": "obxYzGqXIHnW",
        "colab_type": "code",
        "colab": {}
      },
      "source": [
        "import pandas as pd\n",
        "import numpy as np\n",
        "import datetime as d"
      ],
      "execution_count": 0,
      "outputs": []
    },
    {
      "cell_type": "code",
      "metadata": {
        "id": "KlZhioNcP4wK",
        "colab_type": "code",
        "colab": {}
      },
      "source": [
        "URL = 'https://raw.githubusercontent.com/CSSEGISandData/COVID-19/master/csse_covid_19_data/csse_covid_19_time_series/time_series_covid19_confirmed_global.csv'\n",
        "COLUMNS = {'Province/State': 'area', 'Country/Region': 'region', 'Lat': 'latitude', 'Long': 'longitude'}"
      ],
      "execution_count": 0,
      "outputs": []
    },
    {
      "cell_type": "code",
      "metadata": {
        "id": "9hZA0jx7P70u",
        "colab_type": "code",
        "colab": {}
      },
      "source": [
        "# Default parameters\n",
        "ASYMPTOMATIC = 0.75\n",
        "R0 = 2.2\n",
        "INCUBATION_DURATION = 5.2\n",
        "INFECTION_DURATION = 2.9"
      ],
      "execution_count": 0,
      "outputs": []
    },
    {
      "cell_type": "code",
      "metadata": {
        "id": "jxq5pQaSP-5J",
        "colab_type": "code",
        "colab": {}
      },
      "source": [
        "class Rt(object):\n",
        "\n",
        "    def __init__(self\n",
        "                 , R0=R0\n",
        "                 , incubation_duration=INCUBATION_DURATION\n",
        "                 , infection_duration=INFECTION_DURATION\n",
        "                 , asymptomatic=ASYMPTOMATIC\n",
        "                 , data=None\n",
        "                 ):\n",
        "\n",
        "        self.R0 = R0\n",
        "        self.incubation_duration = incubation_duration\n",
        "        self.infection_duration = infection_duration\n",
        "        self.asymptomatic = asymptomatic\n",
        "\n",
        "        self.data = data\n",
        "        self.transformed_data = None\n",
        "\n",
        "    @staticmethod\n",
        "    def smoothing(X, window=7):\n",
        "        return X.rolling(window=window).mean()\n",
        "\n",
        "    def get_data(self, source='CSSE'):\n",
        "        df = pd.read_csv(URL).rename(columns=COLUMNS)\n",
        "        data = pd.melt(df, id_vars=COLUMNS.values(), var_name='date', value_name='cases')\n",
        "        data['date'] = [d.datetime.strptime(str(date), '%m/%d/%y') for date in data['date']]\n",
        "\n",
        "        self.data = data.sort_index().groupby(['region', 'date'])['cases'].sum().loc[['US', 'Spain', 'Italy'], :]\n",
        "\n",
        "        return self\n",
        "\n",
        "    def assumed(self, infectious, Rt, shift=7):\n",
        "        return (Rt / self.infection_duration) * infectious.shift(shift) * (1 - self.asymptomatic)\n",
        "\n",
        "    def re_calculate(self, smoothing=7):\n",
        "        return self.calculate().get_historical()\n",
        "\n",
        "    def calculate(self, smoothing=7):\n",
        "        self.transformed_data = self.data.copy(deep=True).groupby(level=0).apply(self._calculate, smoothing=smoothing)\n",
        "        return self\n",
        "\n",
        "    def _calculate(self, data, smoothing=7):\n",
        "        data = data.to_frame('cases').reset_index(level=0, drop=True)\n",
        "\n",
        "        data['total_cases'] = data['cases'] / (1 - self.asymptomatic)\n",
        "        data['asymptomatic_cases'] = data['total_cases'] - data['cases']\n",
        "\n",
        "        data['new_cases'] = data['cases'].diff()\n",
        "        data['new_total_cases'] = data['total_cases'].diff()\n",
        "        data['new_total_cases_shift'] = data['new_total_cases'].shift(13)\n",
        "\n",
        "        # Rt\n",
        "        data['infectious'] = (data['new_total_cases'] - data['new_total_cases'].shift(3)).expanding().apply(lambda x: np.nansum(x))\n",
        "\n",
        "        data['Rt^'] = self.smoothing(data['new_total_cases'].rolling(window=3).mean() * self.infection_duration / data['infectious'].rolling(window=3).mean().shift(8), window=smoothing)\n",
        "        data['Rt*'] = self.smoothing(-(data['total_cases'] - data['new_total_cases_shift']) / ((data['total_cases'] - data['new_total_cases_shift']).shift(1)) * np.log(1 / self.incubation_duration) - 1, window=smoothing)\n",
        "        data['Rt'] = data[['Rt^', 'Rt*']].mean(axis=1)\n",
        "\n",
        "        data['ex_ante'] = ((data['Rt'] / self.infection_duration) * data['infectious'].shift(6) * (1 - self.asymptomatic)).shift()\n",
        "        data['ex_post'] = data['new_cases'].shift(-1)\n",
        "\n",
        "        return data\n",
        "\n",
        "    def get_historical(self, date=None):\n",
        "        results = self.transformed_data.copy(deep=True).groupby(level=0).apply(self._get_historical, date=date)\n",
        "        return pd.DataFrame(results.tolist(), index=results.index)\n",
        "\n",
        "    @staticmethod\n",
        "    def _get_historical(data, date=None):\n",
        "        data.reset_index(level=0, drop=True, inplace=True)\n",
        "\n",
        "        if date is None:\n",
        "            current = data.iloc[-1]\n",
        "            last = data.iloc[-2]\n",
        "        else:\n",
        "            loc = data.index.get_loc(date)\n",
        "            current = data.iloc[loc]\n",
        "            last = data.iloc[loc - 1]\n",
        "\n",
        "        return {'current_Rt': current['Rt']\n",
        "                , 'last_Rt': last['Rt']\n",
        "                , 'delta_Rt': current['Rt'] - last['Rt']\n",
        "                , 'projected': current['ex_ante']\n",
        "                , 'last_projected': last['ex_ante']\n",
        "                , 'ex_post': last['ex_post']\n",
        "                , 'error': last['ex_post'] - last['ex_ante']\n",
        "                , 'error_pct': (last['ex_ante'] - last['ex_post']) / last['ex_post']\n",
        "                }"
      ],
      "execution_count": 0,
      "outputs": []
    },
    {
      "cell_type": "code",
      "metadata": {
        "id": "fIzaL05rQCBr",
        "colab_type": "code",
        "outputId": "9320e1fd-69d6-40c1-d600-0f338b983284",
        "colab": {
          "base_uri": "https://localhost:8080/",
          "height": 173
        }
      },
      "source": [
        "Rt().get_data().calculate().get_historical()"
      ],
      "execution_count": 6,
      "outputs": [
        {
          "output_type": "execute_result",
          "data": {
            "text/html": [
              "<div>\n",
              "<style scoped>\n",
              "    .dataframe tbody tr th:only-of-type {\n",
              "        vertical-align: middle;\n",
              "    }\n",
              "\n",
              "    .dataframe tbody tr th {\n",
              "        vertical-align: top;\n",
              "    }\n",
              "\n",
              "    .dataframe thead th {\n",
              "        text-align: right;\n",
              "    }\n",
              "</style>\n",
              "<table border=\"1\" class=\"dataframe\">\n",
              "  <thead>\n",
              "    <tr style=\"text-align: right;\">\n",
              "      <th></th>\n",
              "      <th>current_Rt</th>\n",
              "      <th>last_Rt</th>\n",
              "      <th>delta_Rt</th>\n",
              "      <th>projected</th>\n",
              "      <th>last_projected</th>\n",
              "      <th>ex_post</th>\n",
              "      <th>error</th>\n",
              "      <th>error_pct</th>\n",
              "    </tr>\n",
              "    <tr>\n",
              "      <th>region</th>\n",
              "      <th></th>\n",
              "      <th></th>\n",
              "      <th></th>\n",
              "      <th></th>\n",
              "      <th></th>\n",
              "      <th></th>\n",
              "      <th></th>\n",
              "      <th></th>\n",
              "    </tr>\n",
              "  </thead>\n",
              "  <tbody>\n",
              "    <tr>\n",
              "      <th>Italy</th>\n",
              "      <td>0.726579</td>\n",
              "      <td>0.734940</td>\n",
              "      <td>-0.008361</td>\n",
              "      <td>2589.271147</td>\n",
              "      <td>3071.921472</td>\n",
              "      <td>2729.0</td>\n",
              "      <td>-342.921472</td>\n",
              "      <td>0.125658</td>\n",
              "    </tr>\n",
              "    <tr>\n",
              "      <th>Spain</th>\n",
              "      <td>0.754320</td>\n",
              "      <td>0.723389</td>\n",
              "      <td>0.030932</td>\n",
              "      <td>2373.213768</td>\n",
              "      <td>2933.220497</td>\n",
              "      <td>3968.0</td>\n",
              "      <td>1034.779503</td>\n",
              "      <td>-0.260781</td>\n",
              "    </tr>\n",
              "    <tr>\n",
              "      <th>US</th>\n",
              "      <td>0.821440</td>\n",
              "      <td>0.812480</td>\n",
              "      <td>0.008961</td>\n",
              "      <td>22769.880959</td>\n",
              "      <td>23648.909997</td>\n",
              "      <td>39460.0</td>\n",
              "      <td>15811.090003</td>\n",
              "      <td>-0.400687</td>\n",
              "    </tr>\n",
              "  </tbody>\n",
              "</table>\n",
              "</div>"
            ],
            "text/plain": [
              "        current_Rt   last_Rt  delta_Rt  ...  ex_post         error  error_pct\n",
              "region                                  ...                                  \n",
              "Italy     0.726579  0.734940 -0.008361  ...   2729.0   -342.921472   0.125658\n",
              "Spain     0.754320  0.723389  0.030932  ...   3968.0   1034.779503  -0.260781\n",
              "US        0.821440  0.812480  0.008961  ...  39460.0  15811.090003  -0.400687\n",
              "\n",
              "[3 rows x 8 columns]"
            ]
          },
          "metadata": {
            "tags": []
          },
          "execution_count": 6
        }
      ]
    },
    {
      "cell_type": "code",
      "metadata": {
        "id": "KBORjxTqQEL8",
        "colab_type": "code",
        "colab": {}
      },
      "source": [
        ""
      ],
      "execution_count": 0,
      "outputs": []
    }
  ]
}