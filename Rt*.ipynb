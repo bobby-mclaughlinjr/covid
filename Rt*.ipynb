{
  "nbformat": 4,
  "nbformat_minor": 0,
  "metadata": {
    "colab": {
      "name": "Rt.ipynb",
      "provenance": [],
      "collapsed_sections": [],
      "authorship_tag": "ABX9TyM3ll0IRqFQGinL6B/YhCMQ",
      "include_colab_link": true
    },
    "kernelspec": {
      "name": "python3",
      "display_name": "Python 3"
    }
  },
  "cells": [
    {
      "cell_type": "markdown",
      "metadata": {
        "id": "view-in-github",
        "colab_type": "text"
      },
      "source": [
        "<a href=\"https://colab.research.google.com/github/bobby-mclaughlinjr/covid/blob/master/Rt*.ipynb\" target=\"_parent\"><img src=\"https://colab.research.google.com/assets/colab-badge.svg\" alt=\"Open In Colab\"/></a>"
      ]
    },
    {
      "cell_type": "code",
      "metadata": {
        "id": "obxYzGqXIHnW",
        "colab_type": "code",
        "colab": {}
      },
      "source": [
        "import pandas as pd\n",
        "import numpy as np\n",
        "import datetime as d"
      ],
      "execution_count": 0,
      "outputs": []
    },
    {
      "cell_type": "code",
      "metadata": {
        "id": "KlZhioNcP4wK",
        "colab_type": "code",
        "colab": {}
      },
      "source": [
        "URL = 'https://raw.githubusercontent.com/CSSEGISandData/COVID-19/master/csse_covid_19_data/csse_covid_19_time_series/time_series_covid19_confirmed_global.csv'\n",
        "COLUMNS = {'Province/State': 'area', 'Country/Region': 'region', 'Lat': 'latitude', 'Long': 'longitude'}"
      ],
      "execution_count": 0,
      "outputs": []
    },
    {
      "cell_type": "code",
      "metadata": {
        "id": "9hZA0jx7P70u",
        "colab_type": "code",
        "colab": {}
      },
      "source": [
        "ASYMPTOMATIC = 0.75\n",
        "R0 = 2.2\n",
        "INCUBATION_DURATION = 5.2\n",
        "INFECTION_DURATION = 2.9"
      ],
      "execution_count": 0,
      "outputs": []
    },
    {
      "cell_type": "code",
      "metadata": {
        "id": "jxq5pQaSP-5J",
        "colab_type": "code",
        "colab": {}
      },
      "source": [
        "class Rt(object):\n",
        "\n",
        "    \"\"\"\n",
        "        The clinical dynamics in this model are an elaboration on SEIR that simulates the disease's progression at a\n",
        "        higher resolution, subdividing I,RI,R into mild (patients who recover without the need for hospitalization),\n",
        "        moderate (patients who require hospitalization but survive) and fatal (patients who require hospitalization\n",
        "        and do not survive). Each of these variables follows its own trajectory to the final outcome, and the sum of\n",
        "        these compartments add up to the values predicted by SEIR.\n",
        "\n",
        "        Please refer to the source code for details. Note that we assume, for simplicity, that all fatalities come\n",
        "        from hospitals, and that all fatal cases are admitted to hospitals immediately after the infectious period.\n",
        "    \"\"\"\n",
        "\n",
        "    def __init__(self\n",
        "                 , R0=R0\n",
        "                 , incubation_duration=INCUBATION_DURATION\n",
        "                 , infection_duration=INFECTION_DURATION\n",
        "                 , asymptomatic=ASYMPTOMATIC\n",
        "                 , data=None\n",
        "                 ):\n",
        "\n",
        "        self.R0 = R0\n",
        "        self.incubation_duration = incubation_duration\n",
        "        self.infection_duration = infection_duration\n",
        "        self.asymptomatic = asymptomatic\n",
        "\n",
        "        self.data = data\n",
        "\n",
        "    @staticmethod\n",
        "    def smoothing(X, window=7):\n",
        "        return X.rolling(window=window).mean()\n",
        "\n",
        "    def get_data(self, source='CSSE'):\n",
        "        df = pd.read_csv(URL).rename(columns=COLUMNS)\n",
        "        data = pd.melt(df, id_vars=COLUMNS.values(), var_name='date', value_name='cases')\n",
        "        data['date'] = [d.datetime.strptime(str(date), '%m/%d/%y') for date in data['date']]\n",
        "\n",
        "        self.data = data.sort_index().groupby(['region', 'date'])['cases'].sum().loc[['US', 'Spain', 'Italy'], :]\n",
        "\n",
        "        return self\n",
        "\n",
        "    def assumed(self, infectious, Rt, shift=7):\n",
        "        return (Rt / self.infection_duration) * infectious.shift(shift) * (1 - self.asymptomatic)\n",
        "\n",
        "    def calculate(self, smoothing=7):\n",
        "        return self.data.copy(deep=True).groupby(level=0).apply(self._calculate, smoothing=smoothing)\n",
        "\n",
        "    def _calculate(self, data, smoothing=7):\n",
        "        data = data.to_frame('cases').reset_index(level=0, drop=True)\n",
        "\n",
        "        data['total_cases'] = data['cases'] / (1 - self.asymptomatic)\n",
        "        data['asymptomatic_cases'] = data['total_cases'] - data['cases']\n",
        "\n",
        "        data['new_cases_actual'] = data['cases'].diff()\n",
        "        data['new_cases'] = data['total_cases'].diff()\n",
        "        data['new_cases_shift'] = data['new_cases'].shift(13)\n",
        "\n",
        "        # Rt\n",
        "        data['infectious'] = (data['new_cases'] - data['new_cases'].shift(3)).expanding().apply(lambda x: np.nansum(x))\n",
        "\n",
        "        data['Rt^'] = self.smoothing(data['new_cases'].rolling(window=3).mean() * self.infection_duration / data['infectious'].rolling(window=3).mean().shift(8), window=smoothing)\n",
        "        data['Rt*'] = self.smoothing(-(data['total_cases'] - data['new_cases_shift']) / ((data['total_cases'] - data['new_cases_shift']).shift(1)) * np.log(1 / self.incubation_duration) - 1, window=smoothing)\n",
        "        data['Rt'] = data[['Rt^', 'Rt*']].mean(axis=1)\n",
        "\n",
        "        data['ex_ante'] = ((data['Rt'] / self.infection_duration) * data['infectious'].shift(6) * (1 - self.asymptomatic)).shift()\n",
        "        data['ex_post'] = data['new_cases_actual'].shift(-1)\n",
        "\n",
        "        data['Rt_7'] = self.assumed(data['infectious'], Rt=0.7)\n",
        "        data['Rt_8'] = self.assumed(data['infectious'], Rt=0.8)\n",
        "        data['Rt_9'] = self.assumed(data['infectious'], Rt=0.9)\n",
        "\n",
        "        # results\n",
        "        current = data.iloc[-1]\n",
        "        last = data.iloc[-2]\n",
        "\n",
        "        return {'current_Rt': current['Rt']\n",
        "                , 'last_Rt': last['Rt']\n",
        "                , 'delta_Rt': current['Rt'] - last['Rt']\n",
        "                , 'ex_ante': current['ex_ante']\n",
        "                , 'ex_post': current['ex_post']\n",
        "                , 'error': current['new_cases_actual'] - current['ex_ante']\n",
        "                , 'error_pct': (current['ex_ante'] - current['ex_post']) / current['ex_post']\n",
        "                , 'Rt_7': current['Rt_7']\n",
        "                , 'Rt_8': current['Rt_8']\n",
        "                , 'Rt_9': current['Rt_9']\n",
        "                }"
      ],
      "execution_count": 0,
      "outputs": []
    },
    {
      "cell_type": "code",
      "metadata": {
        "id": "fIzaL05rQCBr",
        "colab_type": "code",
        "outputId": "13207e3d-e82c-45be-f70d-2b1a70e29554",
        "colab": {
          "base_uri": "https://localhost:8080/",
          "height": 561
        }
      },
      "source": [
        "Rt().get_data().calculate()"
      ],
      "execution_count": 0,
      "outputs": [
        {
          "output_type": "execute_result",
          "data": {
            "text/plain": [
              "region            \n",
              "Italy   current_Rt        0.726579\n",
              "        last_Rt           0.734940\n",
              "        delta_Rt         -0.008361\n",
              "        ex_ante        2589.271147\n",
              "        ex_post                NaN\n",
              "        error           139.728853\n",
              "        error_pct              NaN\n",
              "        Rt_7           2466.172414\n",
              "        Rt_8           2818.482759\n",
              "        Rt_9           3170.793103\n",
              "Spain   current_Rt        0.754320\n",
              "        last_Rt           0.723389\n",
              "        delta_Rt          0.030932\n",
              "        ex_ante        2373.213768\n",
              "        ex_post                NaN\n",
              "        error          1594.786232\n",
              "        error_pct              NaN\n",
              "        Rt_7           2296.482759\n",
              "        Rt_8           2624.551724\n",
              "        Rt_9           2952.620690\n",
              "US      current_Rt        0.821928\n",
              "        last_Rt           0.812764\n",
              "        delta_Rt          0.009164\n",
              "        ex_ante       22777.847907\n",
              "        ex_post                NaN\n",
              "        error         16682.152093\n",
              "        error_pct              NaN\n",
              "        Rt_7          19617.620690\n",
              "        Rt_8          22420.137931\n",
              "        Rt_9          25222.655172\n",
              "Name: cases, dtype: float64"
            ]
          },
          "metadata": {
            "tags": []
          },
          "execution_count": 5
        }
      ]
    },
    {
      "cell_type": "code",
      "metadata": {
        "id": "KBORjxTqQEL8",
        "colab_type": "code",
        "colab": {}
      },
      "source": [
        ""
      ],
      "execution_count": 0,
      "outputs": []
    }
  ]
}